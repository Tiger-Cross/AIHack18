{
 "cells": [
  {
   "cell_type": "markdown",
   "metadata": {},
   "source": [
    "# Investigation of California Socioeconomic Relations Dataset\n",
    "\n",
    "This contains the chapter on how we initially manipulated and parsed the dataset\n",
    "\n",
    "- [Requirements](#library-imports)\n",
    "- [Introduction](#intro)\n",
    "- [Data processing](#data-processing)"
   ]
  },
  {
   "cell_type": "markdown",
   "metadata": {},
   "source": [
    "## Importing required libraries<a class=\"anchor\" id=\"library-imports\"></a>"
   ]
  },
  {
   "cell_type": "code",
   "execution_count": 106,
   "metadata": {},
   "outputs": [],
   "source": [
    "# Standard python packages\n",
    "import os\n",
    "import sys\n",
    "from pathlib import Path\n",
    "\n",
    "# Other package imports\n",
    "import numpy as np\n",
    "import pandas as pd\n",
    "from matplotlib import pyplot as plt"
   ]
  },
  {
   "cell_type": "markdown",
   "metadata": {},
   "source": [
    "## Introduction<a class=\"anchor\" id=\"intro\"></a>"
   ]
  },
  {
   "cell_type": "markdown",
   "metadata": {},
   "source": [
    "We began the task by looking at the BG_METADATA_2016 csv file as well as the various other csv files and checking out what sort of different areas we were interested to find a correlation between. We have decided to investigate factors affecting educational attainment. "
   ]
  },
  {
   "cell_type": "markdown",
   "metadata": {},
   "source": [
    "The possible factors we considered are:\n",
    " - Wealth\n",
    " - Household structure\n",
    " - Sex\n",
    " - Race"
   ]
  },
  {
   "cell_type": "markdown",
   "metadata": {},
   "source": [
    "## Obtain and process data<a class=\"anchor\" id=\"data-processing\"></a>"
   ]
  },
  {
   "cell_type": "markdown",
   "metadata": {},
   "source": [
    "We used pandas and dictionaries available in python in order to map the long column names for each csv into a more readable table so we could identify the different pieces of data"
   ]
  },
  {
   "cell_type": "code",
   "execution_count": 107,
   "metadata": {},
   "outputs": [],
   "source": [
    "data_folder = Path(\"../data/\")\n",
    "raw_data_folder = data_folder / \"raw\" / \"train\"\n",
    "\n",
    "metadata = pd.read_csv(raw_data_folder / \"BG_METADATA_2016.csv\")"
   ]
  },
  {
   "cell_type": "code",
   "execution_count": 108,
   "metadata": {},
   "outputs": [],
   "source": [
    "def replace_columns(df):\n",
    "    labels = pd.Series(metadata[\"Full_Name\"].values,index=metadata[\"Short_Name\"]).to_dict()\n",
    "    df = df.rename(columns=labels)\n",
    "    return df"
   ]
  },
  {
   "cell_type": "markdown",
   "metadata": {},
   "source": [
    "Repeat for every CSV"
   ]
  },
  {
   "cell_type": "code",
   "execution_count": 109,
   "metadata": {},
   "outputs": [
    {
     "name": "stdout",
     "output_type": "stream",
     "text": [
      "X12_MARITAL_STATUS_AND_HISTORY.csv\n",
      "X01_AGE_AND_SEX.csv\n",
      "X07_MIGRATION.csv\n",
      "X27_HEALTH_INSURANCE.csv\n",
      "X08_COMMUTING.csv\n",
      "X19_INCOME.csv\n",
      "BG_METADATA_2016.csv\n",
      "X22_FOOD_STAMPS.csv\n",
      "X03_HISPANIC_OR_LATINO_ORIGIN.csv\n",
      "X23_EMPLOYMENT_STATUS.csv\n",
      "X15_EDUCATIONAL_ATTAINMENT.csv\n",
      "X11_HOUSEHOLD_FAMILY_SUBFAMILIES.csv\n",
      "X16_LANGUAGE_SPOKEN_AT_HOME.csv\n",
      "X21_VETERAN_STATUS.csv\n",
      "X09_CHILDREN_HOUSEHOLD_RELATIONSHIP.csv\n",
      "X14_SCHOOL_ENROLLMENT.csv\n",
      "X00_COUNTS.csv\n",
      "X99_IMPUTATION.csv\n",
      "X02_RACE.csv\n",
      "X20_EARNINGS.csv\n",
      "X17_POVERTY.csv\n"
     ]
    }
   ],
   "source": [
    "dfs = {}\n",
    "\n",
    "path = \"../data/raw/train/\"\n",
    "for f in os.listdir(path):\n",
    "    print(f)\n",
    "    df = pd.read_csv(path+f)\n",
    "    df = replace_columns(df)\n",
    "    dfs[f] = df"
   ]
  },
  {
   "cell_type": "code",
   "execution_count": 110,
   "metadata": {},
   "outputs": [
    {
     "data": {
      "text/plain": [
       "0        781\n",
       "1        359\n",
       "2        198\n",
       "3        429\n",
       "4        399\n",
       "5        177\n",
       "6        327\n",
       "7        452\n",
       "8        331\n",
       "9        340\n",
       "10       786\n",
       "11       124\n",
       "12       143\n",
       "13       257\n",
       "14       150\n",
       "15       188\n",
       "16       237\n",
       "17       218\n",
       "18       210\n",
       "19       349\n",
       "20       222\n",
       "21       261\n",
       "22       235\n",
       "23       263\n",
       "24       157\n",
       "25       100\n",
       "26       226\n",
       "27       151\n",
       "28       100\n",
       "29       143\n",
       "        ... \n",
       "18968    237\n",
       "18969     21\n",
       "18970    352\n",
       "18971    397\n",
       "18972    157\n",
       "18973    278\n",
       "18974      0\n",
       "18975    620\n",
       "18976    281\n",
       "18977    294\n",
       "18978    339\n",
       "18979    303\n",
       "18980    273\n",
       "18981    424\n",
       "18982    364\n",
       "18983    238\n",
       "18984    281\n",
       "18985    265\n",
       "18986    296\n",
       "18987    621\n",
       "18988     96\n",
       "18989    247\n",
       "18990    330\n",
       "18991    182\n",
       "18992    340\n",
       "18993    588\n",
       "18994    446\n",
       "18995    620\n",
       "18996    127\n",
       "18997    327\n",
       "Name: EDUCATIONAL ATTAINMENT FOR THE POPULATION 25 YEARS AND OVER: Bachelor's degree: Population 25 years and over -- (Estimate), Length: 18998, dtype: int64"
      ]
     },
     "execution_count": 110,
     "metadata": {},
     "output_type": "execute_result"
    }
   ],
   "source": [
    "## We have identified an overall response variable \n",
    "dfs['X15_EDUCATIONAL_ATTAINMENT.csv'][\"EDUCATIONAL ATTAINMENT FOR THE POPULATION 25 YEARS AND OVER: Bachelor's degree: Population 25 years and over -- (Estimate)\"]"
   ]
  },
  {
   "cell_type": "markdown",
   "metadata": {},
   "source": [
    "## Remove superfluous data"
   ]
  },
  {
   "cell_type": "markdown",
   "metadata": {},
   "source": [
    "Some columns are duplicated. quick lil script to remove these"
   ]
  },
  {
   "cell_type": "code",
   "execution_count": 111,
   "metadata": {},
   "outputs": [],
   "source": [
    "for (_, df) in dfs.items():\n",
    "    df = df.loc[:, ~df.columns.duplicated()]"
   ]
  },
  {
   "cell_type": "markdown",
   "metadata": {},
   "source": [
    "## Cleaning the data"
   ]
  },
  {
   "cell_type": "markdown",
   "metadata": {},
   "source": [
    "### Incomplete Data\n",
    "\n",
    "We now check the missing data and remove it from the dataset we're going to use. We do this by looking for NaN values. "
   ]
  },
  {
   "cell_type": "code",
   "execution_count": 112,
   "metadata": {},
   "outputs": [
    {
     "name": "stdout",
     "output_type": "stream",
     "text": [
      "Percent missing data for X12_MARITAL_STATUS_AND_HISTORY.csv : rows=0.0% columns=0.0%\n",
      "Percent missing data for X01_AGE_AND_SEX.csv : rows=100.0% columns=36.8%\n",
      "Percent missing data for X07_MIGRATION.csv : rows=100.0% columns=50.3%\n",
      "Percent missing data for X27_HEALTH_INSURANCE.csv : rows=0.0% columns=0.0%\n",
      "Percent missing data for X08_COMMUTING.csv : rows=100.0% columns=7.5%\n",
      "Percent missing data for X19_INCOME.csv : rows=100.0% columns=26.3%\n",
      "Percent missing data for BG_METADATA_2016.csv : rows=0.0% columns=0.0%\n",
      "Percent missing data for X22_FOOD_STAMPS.csv : rows=0.0% columns=0.0%\n",
      "Percent missing data for X03_HISPANIC_OR_LATINO_ORIGIN.csv : rows=0.0% columns=0.0%\n",
      "Percent missing data for X23_EMPLOYMENT_STATUS.csv : rows=0.0% columns=0.0%\n",
      "Percent missing data for X15_EDUCATIONAL_ATTAINMENT.csv : rows=0.0% columns=0.0%\n",
      "Percent missing data for X11_HOUSEHOLD_FAMILY_SUBFAMILIES.csv : rows=0.0% columns=0.0%\n",
      "Percent missing data for X16_LANGUAGE_SPOKEN_AT_HOME.csv : rows=0.0% columns=0.0%\n",
      "Percent missing data for X21_VETERAN_STATUS.csv : rows=0.0% columns=0.0%\n",
      "Percent missing data for X09_CHILDREN_HOUSEHOLD_RELATIONSHIP.csv : rows=0.0% columns=0.0%\n",
      "Percent missing data for X14_SCHOOL_ENROLLMENT.csv : rows=0.0% columns=0.0%\n",
      "Percent missing data for X00_COUNTS.csv : rows=0.1% columns=57.1%\n",
      "Percent missing data for X99_IMPUTATION.csv : rows=100.0% columns=2.5%\n",
      "Percent missing data for X02_RACE.csv : rows=0.0% columns=0.0%\n",
      "Percent missing data for X20_EARNINGS.csv : rows=22.5% columns=18.3%\n",
      "Percent missing data for X17_POVERTY.csv : rows=98.7% columns=3.3%\n"
     ]
    }
   ],
   "source": [
    "def percent_na(df):\n",
    "    # Find rows and columns that contain a NaN value\n",
    "    narows = df[df.isnull().any(axis=1)]\n",
    "    nacols = df.columns[df.isna().any()].tolist()\n",
    "    # Calculate the percentage of rows and columns that contain a NaN value\n",
    "    percent_narows = round(len(narows)/df.shape[0]*100, 1)\n",
    "    percent_nacols = round(len(nacols)/df.shape[1]*100, 1)\n",
    "    print(\"Percent missing data for {} : rows={}% columns={}%\".format(name, percent_narows, percent_nacols))\n",
    "    \n",
    "for (name, df) in dfs.items():\n",
    "    percent_na(df)\n",
    "    "
   ]
  },
  {
   "cell_type": "code",
   "execution_count": 113,
   "metadata": {},
   "outputs": [
    {
     "name": "stdout",
     "output_type": "stream",
     "text": [
      "X12_MARITAL_STATUS_AND_HISTORY.csv columns dropped : 0\n",
      "X01_AGE_AND_SEX.csv columns dropped : 36\n",
      "X07_MIGRATION.csv columns dropped : 82\n",
      "X27_HEALTH_INSURANCE.csv columns dropped : 0\n",
      "X08_COMMUTING.csv columns dropped : 44\n",
      "X19_INCOME.csv columns dropped : 61\n",
      "BG_METADATA_2016.csv columns dropped : 0\n",
      "X22_FOOD_STAMPS.csv columns dropped : 0\n",
      "X03_HISPANIC_OR_LATINO_ORIGIN.csv columns dropped : 0\n",
      "X23_EMPLOYMENT_STATUS.csv columns dropped : 0\n",
      "X15_EDUCATIONAL_ATTAINMENT.csv columns dropped : 0\n",
      "X11_HOUSEHOLD_FAMILY_SUBFAMILIES.csv columns dropped : 0\n",
      "X16_LANGUAGE_SPOKEN_AT_HOME.csv columns dropped : 0\n",
      "X21_VETERAN_STATUS.csv columns dropped : 0\n",
      "X09_CHILDREN_HOUSEHOLD_RELATIONSHIP.csv columns dropped : 0\n",
      "X14_SCHOOL_ENROLLMENT.csv columns dropped : 0\n",
      "X00_COUNTS.csv columns dropped : 0\n",
      "X99_IMPUTATION.csv columns dropped : 14\n",
      "X02_RACE.csv columns dropped : 0\n",
      "X20_EARNINGS.csv columns dropped : 0\n",
      "X17_POVERTY.csv columns dropped : 10\n"
     ]
    }
   ],
   "source": [
    "dfs_no_na = {}\n",
    "for (name, df) in dfs.items():\n",
    "    threshold=len(df)*0.8\n",
    "    dfs_no_na[name] = df.dropna(thresh=threshold, axis=1) \n",
    "    print(f\"{name} columns dropped : {dfs[name].shape[1] - dfs_no_na[name].shape[1]}\")\n",
    "    \n",
    "del dfs"
   ]
  },
  {
   "cell_type": "code",
   "execution_count": 114,
   "metadata": {},
   "outputs": [
    {
     "name": "stdout",
     "output_type": "stream",
     "text": [
      "Percent missing data for X12_MARITAL_STATUS_AND_HISTORY.csv : rows=0.0% columns=0.0%\n",
      "Percent missing data for X01_AGE_AND_SEX.csv : rows=28.4% columns=18.9%\n",
      "Percent missing data for X07_MIGRATION.csv : rows=0.0% columns=0.0%\n",
      "Percent missing data for X27_HEALTH_INSURANCE.csv : rows=0.0% columns=0.0%\n",
      "Percent missing data for X08_COMMUTING.csv : rows=0.0% columns=0.0%\n",
      "Percent missing data for X19_INCOME.csv : rows=57.0% columns=13.2%\n",
      "Percent missing data for BG_METADATA_2016.csv : rows=0.0% columns=0.0%\n",
      "Percent missing data for X22_FOOD_STAMPS.csv : rows=0.0% columns=0.0%\n",
      "Percent missing data for X03_HISPANIC_OR_LATINO_ORIGIN.csv : rows=0.0% columns=0.0%\n",
      "Percent missing data for X23_EMPLOYMENT_STATUS.csv : rows=0.0% columns=0.0%\n",
      "Percent missing data for X15_EDUCATIONAL_ATTAINMENT.csv : rows=0.0% columns=0.0%\n",
      "Percent missing data for X11_HOUSEHOLD_FAMILY_SUBFAMILIES.csv : rows=0.0% columns=0.0%\n",
      "Percent missing data for X16_LANGUAGE_SPOKEN_AT_HOME.csv : rows=0.0% columns=0.0%\n",
      "Percent missing data for X21_VETERAN_STATUS.csv : rows=0.0% columns=0.0%\n",
      "Percent missing data for X09_CHILDREN_HOUSEHOLD_RELATIONSHIP.csv : rows=0.0% columns=0.0%\n",
      "Percent missing data for X14_SCHOOL_ENROLLMENT.csv : rows=0.0% columns=0.0%\n",
      "Percent missing data for X00_COUNTS.csv : rows=0.1% columns=57.1%\n",
      "Percent missing data for X99_IMPUTATION.csv : rows=0.0% columns=0.0%\n",
      "Percent missing data for X02_RACE.csv : rows=0.0% columns=0.0%\n",
      "Percent missing data for X20_EARNINGS.csv : rows=22.5% columns=18.3%\n",
      "Percent missing data for X17_POVERTY.csv : rows=0.0% columns=0.0%\n"
     ]
    }
   ],
   "source": [
    "for (name, df) in dfs_no_na.items():\n",
    "    percent_na(df)"
   ]
  },
  {
   "cell_type": "markdown",
   "metadata": {},
   "source": [
    "## Imputation\n",
    "Single vs. Multiple imputation?\n",
    "\n",
    "In the interests of time, we use mean. Very fast, but decreases variance of dataset unfortunately."
   ]
  },
  {
   "cell_type": "code",
   "execution_count": 115,
   "metadata": {},
   "outputs": [],
   "source": [
    "for (name, df) in dfs_no_na.items():\n",
    "    dfs_no_na[name] = df.fillna(df.mean())"
   ]
  },
  {
   "cell_type": "code",
   "execution_count": 116,
   "metadata": {},
   "outputs": [
    {
     "name": "stdout",
     "output_type": "stream",
     "text": [
      "Percent missing data for X12_MARITAL_STATUS_AND_HISTORY.csv : rows=0.0% columns=0.0%\n",
      "Percent missing data for X01_AGE_AND_SEX.csv : rows=0.0% columns=0.0%\n",
      "Percent missing data for X07_MIGRATION.csv : rows=0.0% columns=0.0%\n",
      "Percent missing data for X27_HEALTH_INSURANCE.csv : rows=0.0% columns=0.0%\n",
      "Percent missing data for X08_COMMUTING.csv : rows=0.0% columns=0.0%\n",
      "Percent missing data for X19_INCOME.csv : rows=0.0% columns=0.0%\n",
      "Percent missing data for BG_METADATA_2016.csv : rows=0.0% columns=0.0%\n",
      "Percent missing data for X22_FOOD_STAMPS.csv : rows=0.0% columns=0.0%\n",
      "Percent missing data for X03_HISPANIC_OR_LATINO_ORIGIN.csv : rows=0.0% columns=0.0%\n",
      "Percent missing data for X23_EMPLOYMENT_STATUS.csv : rows=0.0% columns=0.0%\n",
      "Percent missing data for X15_EDUCATIONAL_ATTAINMENT.csv : rows=0.0% columns=0.0%\n",
      "Percent missing data for X11_HOUSEHOLD_FAMILY_SUBFAMILIES.csv : rows=0.0% columns=0.0%\n",
      "Percent missing data for X16_LANGUAGE_SPOKEN_AT_HOME.csv : rows=0.0% columns=0.0%\n",
      "Percent missing data for X21_VETERAN_STATUS.csv : rows=0.0% columns=0.0%\n",
      "Percent missing data for X09_CHILDREN_HOUSEHOLD_RELATIONSHIP.csv : rows=0.0% columns=0.0%\n",
      "Percent missing data for X14_SCHOOL_ENROLLMENT.csv : rows=0.0% columns=0.0%\n",
      "Percent missing data for X00_COUNTS.csv : rows=0.0% columns=0.0%\n",
      "Percent missing data for X99_IMPUTATION.csv : rows=0.0% columns=0.0%\n",
      "Percent missing data for X02_RACE.csv : rows=0.0% columns=0.0%\n",
      "Percent missing data for X20_EARNINGS.csv : rows=0.0% columns=0.0%\n",
      "Percent missing data for X17_POVERTY.csv : rows=0.0% columns=0.0%\n"
     ]
    }
   ],
   "source": [
    "for (name, df) in dfs_no_na.items():\n",
    "    percent_na(df)"
   ]
  },
  {
   "cell_type": "code",
   "execution_count": 117,
   "metadata": {},
   "outputs": [
    {
     "name": "stdout",
     "output_type": "stream",
     "text": [
      "Saved X12_MARITAL_STATUS_AND_HISTORY.csv\n",
      "Saved X01_AGE_AND_SEX.csv\n",
      "Saved X07_MIGRATION.csv\n",
      "Saved X27_HEALTH_INSURANCE.csv\n",
      "Saved X08_COMMUTING.csv\n",
      "Saved X19_INCOME.csv\n",
      "Saved BG_METADATA_2016.csv\n",
      "Saved X22_FOOD_STAMPS.csv\n",
      "Saved X03_HISPANIC_OR_LATINO_ORIGIN.csv\n",
      "Saved X23_EMPLOYMENT_STATUS.csv\n",
      "Saved X15_EDUCATIONAL_ATTAINMENT.csv\n",
      "Saved X11_HOUSEHOLD_FAMILY_SUBFAMILIES.csv\n",
      "Saved X16_LANGUAGE_SPOKEN_AT_HOME.csv\n",
      "Saved X21_VETERAN_STATUS.csv\n",
      "Saved X09_CHILDREN_HOUSEHOLD_RELATIONSHIP.csv\n",
      "Saved X14_SCHOOL_ENROLLMENT.csv\n",
      "Saved X00_COUNTS.csv\n",
      "Saved X99_IMPUTATION.csv\n",
      "Saved X02_RACE.csv\n",
      "Saved X20_EARNINGS.csv\n",
      "Saved X17_POVERTY.csv\n"
     ]
    }
   ],
   "source": [
    "for (name, df) in dfs_no_na.items():\n",
    "    df.to_csv(data_folder / \"processed\" / name)\n",
    "    print(f\"Saved {name}\")"
   ]
  },
  {
   "cell_type": "code",
   "execution_count": null,
   "metadata": {},
   "outputs": [],
   "source": []
  },
  {
   "cell_type": "code",
   "execution_count": null,
   "metadata": {},
   "outputs": [],
   "source": []
  },
  {
   "cell_type": "code",
   "execution_count": null,
   "metadata": {},
   "outputs": [],
   "source": []
  }
 ],
 "metadata": {
  "kernelspec": {
   "display_name": "Python 3",
   "language": "python",
   "name": "python3"
  },
  "language_info": {
   "codemirror_mode": {
    "name": "ipython",
    "version": 3
   },
   "file_extension": ".py",
   "mimetype": "text/x-python",
   "name": "python",
   "nbconvert_exporter": "python",
   "pygments_lexer": "ipython3",
   "version": "3.5.2"
  }
 },
 "nbformat": 4,
 "nbformat_minor": 2
}
