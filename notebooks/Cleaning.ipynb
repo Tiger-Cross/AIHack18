{
 "cells": [
  {
   "cell_type": "code",
   "execution_count": 2,
   "metadata": {},
   "outputs": [],
   "source": [
    "# Standard python packages\n",
    "import os\n",
    "import sys\n",
    "\n",
    "# Other package imports\n",
    "import numpy as np\n",
    "import pandas as pd\n",
    "from matplotlib import pyplot as plt"
   ]
  },
  {
   "cell_type": "code",
   "execution_count": 46,
   "metadata": {},
   "outputs": [],
   "source": [
    "metadata = pd.read_csv(\"../data/raw/california/train/BG_METADATA_2016.csv\")"
   ]
  },
  {
   "cell_type": "code",
   "execution_count": 50,
   "metadata": {},
   "outputs": [],
   "source": [
    "def replace_columns(df):\n",
    "    labels = pd.Series(metadata[\"Full_Name\"].values,index=metadata[\"Short_Name\"]).to_dict()\n",
    "    df = df.rename(columns=labels)\n",
    "    return df"
   ]
  },
  {
   "cell_type": "code",
   "execution_count": 53,
   "metadata": {},
   "outputs": [
    {
     "name": "stdout",
     "output_type": "stream",
     "text": [
      "X12_MARITAL_STATUS_AND_HISTORY.csv\n",
      "X01_AGE_AND_SEX.csv\n",
      "X07_MIGRATION.csv\n",
      "X27_HEALTH_INSURANCE.csv\n",
      "X08_COMMUTING.csv\n",
      "X19_INCOME.csv\n",
      "BG_METADATA_2016.csv\n",
      "X22_FOOD_STAMPS.csv\n",
      "X03_HISPANIC_OR_LATINO_ORIGIN.csv\n",
      "X23_EMPLOYMENT_STATUS.csv\n",
      "X15_EDUCATIONAL_ATTAINMENT.csv\n",
      "X11_HOUSEHOLD_FAMILY_SUBFAMILIES.csv\n",
      "X16_LANGUAGE_SPOKEN_AT_HOME.csv\n",
      "X21_VETERAN_STATUS.csv\n",
      "X09_CHILDREN_HOUSEHOLD_RELATIONSHIP.csv\n",
      "X14_SCHOOL_ENROLLMENT.csv\n",
      "X00_COUNTS.csv\n",
      "X99_IMPUTATION.csv\n",
      "X02_RACE.csv\n",
      "X20_EARNINGS.csv\n",
      "X17_POVERTY.csv\n"
     ]
    }
   ],
   "source": [
    "import os\n",
    "\n",
    "dfs = {}\n",
    "\n",
    "path = \"../data/raw/california/train/\"\n",
    "for f in os.listdir(path):\n",
    "    print(f)\n",
    "    df = pd.read_csv(path+f)\n",
    "    df = replace_columns(df)\n",
    "    dfs[f] = df"
   ]
  }
 ],
 "metadata": {
  "kernelspec": {
   "display_name": "Python 3",
   "language": "python",
   "name": "python3"
  },
  "language_info": {
   "codemirror_mode": {
    "name": "ipython",
    "version": 3
   },
   "file_extension": ".py",
   "mimetype": "text/x-python",
   "name": "python",
   "nbconvert_exporter": "python",
   "pygments_lexer": "ipython3",
   "version": "3.6.6"
  }
 },
 "nbformat": 4,
 "nbformat_minor": 2
}
