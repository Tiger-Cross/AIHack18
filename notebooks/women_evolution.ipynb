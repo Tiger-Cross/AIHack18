{
 "cells": [
  {
   "cell_type": "code",
   "execution_count": 1,
   "metadata": {
    "button": false,
    "new_sheet": false,
    "run_control": {
     "read_only": false
    }
   },
   "outputs": [],
   "source": [
    "import numpy as np\n",
    "import pandas as pd\n",
    "import matplotlib.pyplot as plt\n",
    "import inspect\n",
    "import os\n",
    "from pathlib import Path"
   ]
  },
  {
   "cell_type": "code",
   "execution_count": 2,
   "metadata": {
    "button": false,
    "new_sheet": false,
    "run_control": {
     "read_only": false
    }
   },
   "outputs": [],
   "source": [
    "data_folder = Path(\"../data/processed\")\n",
    "edu_attainment_csv_filepath = data_folder / \"X15_EDUCATIONAL_ATTAINMENT.csv\"\n",
    "school_enrollment_csv_filepath = data_folder / \"X14_SCHOOL_ENROLLMENT.csv\"\n",
    "sex_csv_filepath = data_folder / \"X01_AGE_AND_SEX.csv\""
   ]
  },
  {
   "cell_type": "code",
   "execution_count": 29,
   "metadata": {
    "button": false,
    "new_sheet": false,
    "run_control": {
     "read_only": false
    },
    "scrolled": false
   },
   "outputs": [
    {
     "data": {
      "image/png": "[encoded data removed]",
      "text/plain": [
       "<Figure size 432x288 with 1 Axes>"
      ]
     },
     "metadata": {
      "needs_background": "light"
     },
     "output_type": "display_data"
    }
   ],
   "source": [
    "edu_enrollment = pd.read_csv(str(school_enrollment_csv_filepath))\n",
    "edu_attainment = pd.read_csv(str(edu_attainment_csv_filepath))\n",
    "sex_data = pd.read_csv(str(sex_csv_filepath))\n",
    "\n",
    "woman_18_24 = edu_enrollment[\"SEX BY SCHOOL ENROLLMENT BY LEVEL OF SCHOOL BY TYPE OF SCHOOL FOR THE POPULATION 3 YEARS AND OVER: Female: Enrolled in school: Enrolled in college undergraduate years: Population 3 years and over -- (Estimate)\"]\n",
    "woman_25_39 = edu_attainment[\"SEX BY AGE BY FIELD OF BACHELOR'S DEGREE FOR FIRST MAJOR FOR THE POPULATION 25 YEARS AND OVER: Female: 25 to 39 years: POPULATION 25 YEARS AND OVER WITH A BACHELOR'S DEGREE OR HIGHER ATTAINMENT -- (Estimate)\"]\n",
    "woman_40_64 = edu_attainment[\"SEX BY AGE BY FIELD OF BACHELOR'S DEGREE FOR FIRST MAJOR FOR THE POPULATION 25 YEARS AND OVER: Female: 40 to 64 years: POPULATION 25 YEARS AND OVER WITH A BACHELOR'S DEGREE OR HIGHER ATTAINMENT -- (Estimate)\"]\n",
    "woman_65_over = edu_attainment[\"SEX BY AGE BY FIELD OF BACHELOR'S DEGREE FOR FIRST MAJOR FOR THE POPULATION 25 YEARS AND OVER: Female: 65 years and over: POPULATION 25 YEARS AND OVER WITH A BACHELOR'S DEGREE OR HIGHER ATTAINMENT -- (Estimate)\"]\n",
    "\n",
    "#woman_total = sex_data[\"SEX BY AGE: Female: Total population -- (Estimate)\"]\n",
    "woman_total_18_24 = sex_data[\"SEX BY AGE: Female: 18 and 19 years: Total population -- (Estimate)\"]+ sex_data[\"SEX BY AGE: Female: 20 years: Total population -- (Estimate)\"]+ sex_data[\"SEX BY AGE: Female: 21 years: Total population -- (Estimate)\"]+ sex_data[\"SEX BY AGE: Female: 22 to 24 years: Total population -- (Estimate)\"]\n",
    "woman_total_25_39 = sex_data[\"SEX BY AGE: Female: 25 to 29 years: Total population -- (Estimate)\"]+ sex_data[\"SEX BY AGE: Female: 30 to 34 years: Total population -- (Estimate)\"]+ sex_data[\"SEX BY AGE: Female: 35 to 39 years: Total population -- (Estimate)\"]\n",
    "woman_total_40_64 = sex_data[\"SEX BY AGE: Female: 40 to 44 years: Total population -- (Estimate)\"]+ sex_data[\"SEX BY AGE: Female: 45 to 49 years: Total population -- (Estimate)\"]+ sex_data[\"SEX BY AGE: Female: 50 to 54 years: Total population -- (Estimate)\"]+ sex_data[\"SEX BY AGE: Female: 55 to 59 years: Total population -- (Estimate)\"]+ sex_data[\"SEX BY AGE: Female: 60 and 61 years: Total population -- (Estimate)\"]+ sex_data[\"SEX BY AGE: Female: 62 to 64 years: Total population -- (Estimate)\"]\n",
    "woman_total_65_over = sex_data[\"SEX BY AGE: Female: 65 and 66 years: Total population -- (Estimate)\"]+ sex_data[\"SEX BY AGE: Female: 67 to 69 years: Total population -- (Estimate)\"]+ sex_data[\"SEX BY AGE: Female: 70 to 74 years: Total population -- (Estimate)\"]+ sex_data[\"SEX BY AGE: Female: 75 to 79 years: Total population -- (Estimate)\"]+ sex_data[\"SEX BY AGE: Female: 80 to 84 years: Total population -- (Estimate)\"]+ sex_data[\"SEX BY AGE: Female: 85 years and over: Total population -- (Estimate)\"]\n",
    "\n",
    "woman_18_24_ratio = sum(woman_18_24) / sum(woman_total_18_24) * 100\n",
    "woman_25_39_ratio = sum(woman_25_39) / sum(woman_total_25_39) * 100\n",
    "woman_total_40_64_ratio = sum(woman_40_64) / sum(woman_total_40_64) * 100\n",
    "woman_total_65_over_ratio = sum(woman_65_over) / sum(woman_total_65_over) * 100\n",
    "\n",
    "#print(sum(woman_total_18_24) + sum(woman_total_25_39) + sum(woman_total_40_64) + sum(woman_total_65_over))\n",
    "\n",
    "#print(woman_18_24_ratio)\n",
    "#print(woman_25_39_ratio)\n",
    "#print(woman_total_40_64_ratio)\n",
    "#print(woman_total_65_over_ratio)\n",
    "\n",
    "x = [\"65-over\",\"40-64\" ,\"25-39\", \"18-24\"]\n",
    "y = [woman_total_65_over_ratio, woman_total_40_64_ratio, woman_25_39_ratio, woman_18_24_ratio]\n",
    "\n",
    "plt.bar(x, y)\n",
    "for a,b in zip(x, y):\n",
    "    plt.text(a, b, str(b).split(\".\", 1)[0] + \"%\", fontsize=12,\n",
    "                color='dimgrey', horizontalalignment='center')\n",
    "plt.xlabel('women generations (by age)')\n",
    "plt.ylabel('bachelor degree or higher ratio (in %)')\n",
    "plt.show()\n",
    "\n",
    "\n",
    "\n"
   ]
  },
  {
   "cell_type": "code",
   "execution_count": null,
   "metadata": {},
   "outputs": [],
   "source": []
  }
 ],
 "metadata": {
  "kernelspec": {
   "display_name": "Python 3",
   "language": "python",
   "name": "python3"
  },
  "language_info": {
   "codemirror_mode": {
    "name": "ipython",
    "version": 3
   },
   "file_extension": ".py",
   "mimetype": "text/x-python",
   "name": "python",
   "nbconvert_exporter": "python",
   "pygments_lexer": "ipython3",
   "version": "3.7.0"
  }
 },
 "nbformat": 4,
 "nbformat_minor": 1
}
