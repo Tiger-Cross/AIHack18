{
 "cells": [
  {
   "cell_type": "markdown",
   "metadata": {},
   "source": [
    "# Investigation of California Socioeconomic Relations Dataset\n",
    "\n",
    "This contains the chapter on how we analysed the data and discusses a summary of our findings.\n",
    "\n",
    "- [Requirements](#library-imports)\n",
    "- [Training the Model](#model)\n",
    "- [Testing the model](#test)"
   ]
  },
  {
   "cell_type": "markdown",
   "metadata": {},
   "source": [
    "## Importing required libraries<a class=\"anchor\" id=\"library-imports\"></a>"
   ]
  },
  {
   "cell_type": "code",
   "execution_count": 2,
   "metadata": {},
   "outputs": [],
   "source": [
    "# Standard python packages\n",
    "import os\n",
    "import sys\n",
    "from pathlib import Path\n",
    "\n",
    "# Other package imports\n",
    "import numpy as npb\n",
    "import pandas as pd\n",
    "from matplotlib import pyplot as plt"
   ]
  },
  {
   "cell_type": "code",
   "execution_count": 4,
   "metadata": {},
   "outputs": [],
   "source": [
    "data_folder = Path(\"../data/processed\")"
   ]
  },
  {
   "cell_type": "code",
   "execution_count": 17,
   "metadata": {},
   "outputs": [
    {
     "name": "stdout",
     "output_type": "stream",
     "text": [
      "Index(['HOUSEHOLD INCOME IN THE PAST 12 MONTHS (IN 2016 INFLATION-ADJUSTED DOLLARS): Total: Households -- (Estimate)',\n",
      "       'HOUSEHOLD INCOME IN THE PAST 12 MONTHS (IN 2016 INFLATION-ADJUSTED DOLLARS): Total: Households -- (Margin of Error)',\n",
      "       'HOUSEHOLD INCOME IN THE PAST 12 MONTHS (IN 2016 INFLATION-ADJUSTED DOLLARS): Less than $10,000: Households -- (Estimate)',\n",
      "       'HOUSEHOLD INCOME IN THE PAST 12 MONTHS (IN 2016 INFLATION-ADJUSTED DOLLARS): Less than $10,000: Households -- (Margin of Error)',\n",
      "       'HOUSEHOLD INCOME IN THE PAST 12 MONTHS (IN 2016 INFLATION-ADJUSTED DOLLARS): $10,000 to $14,999: Households -- (Estimate)',\n",
      "       'HOUSEHOLD INCOME IN THE PAST 12 MONTHS (IN 2016 INFLATION-ADJUSTED DOLLARS): $10,000 to $14,999: Households -- (Margin of Error)',\n",
      "       'HOUSEHOLD INCOME IN THE PAST 12 MONTHS (IN 2016 INFLATION-ADJUSTED DOLLARS): $15,000 to $19,999: Households -- (Estimate)',\n",
      "       'HOUSEHOLD INCOME IN THE PAST 12 MONTHS (IN 2016 INFLATION-ADJUSTED DOLLARS): $15,000 to $19,999: Households -- (Margin of Error)',\n",
      "       'HOUSEHOLD INCOME IN THE PAST 12 MONTHS (IN 2016 INFLATION-ADJUSTED DOLLARS): $20,000 to $24,999: Households -- (Estimate)',\n",
      "       'HOUSEHOLD INCOME IN THE PAST 12 MONTHS (IN 2016 INFLATION-ADJUSTED DOLLARS): $20,000 to $24,999: Households -- (Margin of Error)',\n",
      "       'HOUSEHOLD INCOME IN THE PAST 12 MONTHS (IN 2016 INFLATION-ADJUSTED DOLLARS): $25,000 to $29,999: Households -- (Estimate)',\n",
      "       'HOUSEHOLD INCOME IN THE PAST 12 MONTHS (IN 2016 INFLATION-ADJUSTED DOLLARS): $25,000 to $29,999: Households -- (Margin of Error)',\n",
      "       'HOUSEHOLD INCOME IN THE PAST 12 MONTHS (IN 2016 INFLATION-ADJUSTED DOLLARS): $30,000 to $34,999: Households -- (Estimate)',\n",
      "       'HOUSEHOLD INCOME IN THE PAST 12 MONTHS (IN 2016 INFLATION-ADJUSTED DOLLARS): $30,000 to $34,999: Households -- (Margin of Error)',\n",
      "       'HOUSEHOLD INCOME IN THE PAST 12 MONTHS (IN 2016 INFLATION-ADJUSTED DOLLARS): $35,000 to $39,999: Households -- (Estimate)',\n",
      "       'HOUSEHOLD INCOME IN THE PAST 12 MONTHS (IN 2016 INFLATION-ADJUSTED DOLLARS): $35,000 to $39,999: Households -- (Margin of Error)',\n",
      "       'HOUSEHOLD INCOME IN THE PAST 12 MONTHS (IN 2016 INFLATION-ADJUSTED DOLLARS): $40,000 to $44,999: Households -- (Estimate)',\n",
      "       'HOUSEHOLD INCOME IN THE PAST 12 MONTHS (IN 2016 INFLATION-ADJUSTED DOLLARS): $40,000 to $44,999: Households -- (Margin of Error)',\n",
      "       'HOUSEHOLD INCOME IN THE PAST 12 MONTHS (IN 2016 INFLATION-ADJUSTED DOLLARS): $45,000 to $49,999: Households -- (Estimate)',\n",
      "       'HOUSEHOLD INCOME IN THE PAST 12 MONTHS (IN 2016 INFLATION-ADJUSTED DOLLARS): $45,000 to $49,999: Households -- (Margin of Error)',\n",
      "       'HOUSEHOLD INCOME IN THE PAST 12 MONTHS (IN 2016 INFLATION-ADJUSTED DOLLARS): $50,000 to $59,999: Households -- (Estimate)',\n",
      "       'HOUSEHOLD INCOME IN THE PAST 12 MONTHS (IN 2016 INFLATION-ADJUSTED DOLLARS): $50,000 to $59,999: Households -- (Margin of Error)',\n",
      "       'HOUSEHOLD INCOME IN THE PAST 12 MONTHS (IN 2016 INFLATION-ADJUSTED DOLLARS): $60,000 to $74,999: Households -- (Estimate)',\n",
      "       'HOUSEHOLD INCOME IN THE PAST 12 MONTHS (IN 2016 INFLATION-ADJUSTED DOLLARS): $60,000 to $74,999: Households -- (Margin of Error)',\n",
      "       'HOUSEHOLD INCOME IN THE PAST 12 MONTHS (IN 2016 INFLATION-ADJUSTED DOLLARS): $75,000 to $99,999: Households -- (Estimate)',\n",
      "       'HOUSEHOLD INCOME IN THE PAST 12 MONTHS (IN 2016 INFLATION-ADJUSTED DOLLARS): $75,000 to $99,999: Households -- (Margin of Error)',\n",
      "       'HOUSEHOLD INCOME IN THE PAST 12 MONTHS (IN 2016 INFLATION-ADJUSTED DOLLARS): $100,000 to $124,999: Households -- (Estimate)',\n",
      "       'HOUSEHOLD INCOME IN THE PAST 12 MONTHS (IN 2016 INFLATION-ADJUSTED DOLLARS): $100,000 to $124,999: Households -- (Margin of Error)',\n",
      "       'HOUSEHOLD INCOME IN THE PAST 12 MONTHS (IN 2016 INFLATION-ADJUSTED DOLLARS): $125,000 to $149,999: Households -- (Estimate)',\n",
      "       'HOUSEHOLD INCOME IN THE PAST 12 MONTHS (IN 2016 INFLATION-ADJUSTED DOLLARS): $125,000 to $149,999: Households -- (Margin of Error)',\n",
      "       'HOUSEHOLD INCOME IN THE PAST 12 MONTHS (IN 2016 INFLATION-ADJUSTED DOLLARS): $150,000 to $199,999: Households -- (Estimate)',\n",
      "       'HOUSEHOLD INCOME IN THE PAST 12 MONTHS (IN 2016 INFLATION-ADJUSTED DOLLARS): $150,000 to $199,999: Households -- (Margin of Error)',\n",
      "       'HOUSEHOLD INCOME IN THE PAST 12 MONTHS (IN 2016 INFLATION-ADJUSTED DOLLARS): $200,000 or more: Households -- (Estimate)',\n",
      "       'HOUSEHOLD INCOME IN THE PAST 12 MONTHS (IN 2016 INFLATION-ADJUSTED DOLLARS): $200,000 or more: Households -- (Margin of Error)',\n",
      "       'MEDIAN HOUSEHOLD INCOME IN THE PAST 12 MONTHS (IN 2016 INFLATION-ADJUSTED DOLLARS): Total: Households -- (Estimate)',\n",
      "       'MEDIAN HOUSEHOLD INCOME IN THE PAST 12 MONTHS (IN 2016 INFLATION-ADJUSTED DOLLARS): Total: Households -- (Margin of Error)',\n",
      "       'AGGREGATE HOUSEHOLD INCOME IN THE PAST 12 MONTHS (IN 2016 INFLATION-ADJUSTED DOLLARS): Total: Households -- (Estimate)',\n",
      "       'AGGREGATE HOUSEHOLD INCOME IN THE PAST 12 MONTHS (IN 2016 INFLATION-ADJUSTED DOLLARS): Total: Households -- (Margin of Error)',\n",
      "       'AGGREGATE HOUSEHOLD INCOME IN THE PAST 12 MONTHS (IN 2016 INFLATION-ADJUSTED DOLLARS) (WHITE ALONE HOUSEHOLDER): Total: Households with a householder who is White alone -- (Estimate)',\n",
      "       'AGGREGATE HOUSEHOLD INCOME IN THE PAST 12 MONTHS (IN 2016 INFLATION-ADJUSTED DOLLARS) (WHITE ALONE HOUSEHOLDER): Total: Households with a householder who is White alone -- (Margin of Error)',\n",
      "       'AGGREGATE HOUSEHOLD INCOME IN THE PAST 12 MONTHS (IN 2016 INFLATION-ADJUSTED DOLLARS) (WHITE ALONE, NOT HISPANIC OR LATINO HOUSEHOLDER): Total: Households with a householder who is White alone, not Hispanic or Latino -- (Estimate)',\n",
      "       'AGGREGATE HOUSEHOLD INCOME IN THE PAST 12 MONTHS (IN 2016 INFLATION-ADJUSTED DOLLARS) (WHITE ALONE, NOT HISPANIC OR LATINO HOUSEHOLDER): Total: Households with a householder who is White alone, not Hispanic or Latino -- (Margin of Error)',\n",
      "       'AGGREGATE HOUSEHOLD INCOME IN THE PAST 12 MONTHS (IN 2016 INFLATION-ADJUSTED DOLLARS) (HISPANIC OR LATINO HOUSEHOLDER): Total: Households with a householder who is Hispanic or Latino -- (Estimate)',\n",
      "       'AGGREGATE HOUSEHOLD INCOME IN THE PAST 12 MONTHS (IN 2016 INFLATION-ADJUSTED DOLLARS) (HISPANIC OR LATINO HOUSEHOLDER): Total: Households with a householder who is Hispanic or Latino -- (Margin of Error)',\n",
      "       'AGE OF HOUSEHOLDER BY HOUSEHOLD INCOME IN THE PAST 12 MONTHS (IN 2016 INFLATION-ADJUSTED DOLLARS): Total: Households -- (Estimate)',\n",
      "       'AGE OF HOUSEHOLDER BY HOUSEHOLD INCOME IN THE PAST 12 MONTHS (IN 2016 INFLATION-ADJUSTED DOLLARS): Total: Households -- (Margin of Error)',\n",
      "       'AGE OF HOUSEHOLDER BY HOUSEHOLD INCOME IN THE PAST 12 MONTHS (IN 2016 INFLATION-ADJUSTED DOLLARS): Householder under 25 years: Households -- (Estimate)',\n",
      "       'AGE OF HOUSEHOLDER BY HOUSEHOLD INCOME IN THE PAST 12 MONTHS (IN 2016 INFLATION-ADJUSTED DOLLARS): Householder under 25 years: Households -- (Margin of Error)',\n",
      "       'AGE OF HOUSEHOLDER BY HOUSEHOLD INCOME IN THE PAST 12 MONTHS (IN 2016 INFLATION-ADJUSTED DOLLARS): Householder under 25 years: Less than $10,000: Households -- (Estimate)',\n",
      "       'AGE OF HOUSEHOLDER BY HOUSEHOLD INCOME IN THE PAST 12 MONTHS (IN 2016 INFLATION-ADJUSTED DOLLARS): Householder under 25 years: Less than $10,000: Households -- (Margin of Error)',\n",
      "       'AGE OF HOUSEHOLDER BY HOUSEHOLD INCOME IN THE PAST 12 MONTHS (IN 2016 INFLATION-ADJUSTED DOLLARS): Householder under 25 years: $10,000 to $14,999: Households -- (Estimate)',\n",
      "       'AGE OF HOUSEHOLDER BY HOUSEHOLD INCOME IN THE PAST 12 MONTHS (IN 2016 INFLATION-ADJUSTED DOLLARS): Householder under 25 years: $10,000 to $14,999: Households -- (Margin of Error)',\n",
      "       'AGE OF HOUSEHOLDER BY HOUSEHOLD INCOME IN THE PAST 12 MONTHS (IN 2016 INFLATION-ADJUSTED DOLLARS): Householder under 25 years: $15,000 to $19,999: Households -- (Estimate)',\n",
      "       'AGE OF HOUSEHOLDER BY HOUSEHOLD INCOME IN THE PAST 12 MONTHS (IN 2016 INFLATION-ADJUSTED DOLLARS): Householder under 25 years: $15,000 to $19,999: Households -- (Margin of Error)',\n",
      "       'AGE OF HOUSEHOLDER BY HOUSEHOLD INCOME IN THE PAST 12 MONTHS (IN 2016 INFLATION-ADJUSTED DOLLARS): Householder under 25 years: $20,000 to $24,999: Households -- (Estimate)',\n",
      "       'AGE OF HOUSEHOLDER BY HOUSEHOLD INCOME IN THE PAST 12 MONTHS (IN 2016 INFLATION-ADJUSTED DOLLARS): Householder under 25 years: $20,000 to $24,999: Households -- (Margin of Error)',\n",
      "       'AGE OF HOUSEHOLDER BY HOUSEHOLD INCOME IN THE PAST 12 MONTHS (IN 2016 INFLATION-ADJUSTED DOLLARS): Householder under 25 years: $25,000 to $29,999: Households -- (Estimate)',\n",
      "       'AGE OF HOUSEHOLDER BY HOUSEHOLD INCOME IN THE PAST 12 MONTHS (IN 2016 INFLATION-ADJUSTED DOLLARS): Householder under 25 years: $25,000 to $29,999: Households -- (Margin of Error)',\n",
      "       'AGE OF HOUSEHOLDER BY HOUSEHOLD INCOME IN THE PAST 12 MONTHS (IN 2016 INFLATION-ADJUSTED DOLLARS): Householder under 25 years: $30,000 to $34,999: Households -- (Estimate)',\n",
      "       'AGE OF HOUSEHOLDER BY HOUSEHOLD INCOME IN THE PAST 12 MONTHS (IN 2016 INFLATION-ADJUSTED DOLLARS): Householder under 25 years: $30,000 to $34,999: Households -- (Margin of Error)',\n",
      "       'AGE OF HOUSEHOLDER BY HOUSEHOLD INCOME IN THE PAST 12 MONTHS (IN 2016 INFLATION-ADJUSTED DOLLARS): Householder under 25 years: $35,000 to $39,999: Households -- (Estimate)',\n",
      "       'AGE OF HOUSEHOLDER BY HOUSEHOLD INCOME IN THE PAST 12 MONTHS (IN 2016 INFLATION-ADJUSTED DOLLARS): Householder under 25 years: $35,000 to $39,999: Households -- (Margin of Error)',\n",
      "       'AGE OF HOUSEHOLDER BY HOUSEHOLD INCOME IN THE PAST 12 MONTHS (IN 2016 INFLATION-ADJUSTED DOLLARS): Householder under 25 years: $40,000 to $44,999: Households -- (Estimate)',\n",
      "       'AGE OF HOUSEHOLDER BY HOUSEHOLD INCOME IN THE PAST 12 MONTHS (IN 2016 INFLATION-ADJUSTED DOLLARS): Householder under 25 years: $40,000 to $44,999: Households -- (Margin of Error)',\n",
      "       'AGE OF HOUSEHOLDER BY HOUSEHOLD INCOME IN THE PAST 12 MONTHS (IN 2016 INFLATION-ADJUSTED DOLLARS): Householder under 25 years: $45,000 to $49,999: Households -- (Estimate)',\n",
      "       'AGE OF HOUSEHOLDER BY HOUSEHOLD INCOME IN THE PAST 12 MONTHS (IN 2016 INFLATION-ADJUSTED DOLLARS): Householder under 25 years: $45,000 to $49,999: Households -- (Margin of Error)',\n",
      "       'AGE OF HOUSEHOLDER BY HOUSEHOLD INCOME IN THE PAST 12 MONTHS (IN 2016 INFLATION-ADJUSTED DOLLARS): Householder under 25 years: $50,000 to $59,999: Households -- (Estimate)',\n",
      "       'AGE OF HOUSEHOLDER BY HOUSEHOLD INCOME IN THE PAST 12 MONTHS (IN 2016 INFLATION-ADJUSTED DOLLARS): Householder under 25 years: $50,000 to $59,999: Households -- (Margin of Error)',\n",
      "       'AGE OF HOUSEHOLDER BY HOUSEHOLD INCOME IN THE PAST 12 MONTHS (IN 2016 INFLATION-ADJUSTED DOLLARS): Householder under 25 years: $60,000 to $74,999: Households -- (Estimate)',\n",
      "       'AGE OF HOUSEHOLDER BY HOUSEHOLD INCOME IN THE PAST 12 MONTHS (IN 2016 INFLATION-ADJUSTED DOLLARS): Householder under 25 years: $60,000 to $74,999: Households -- (Margin of Error)',\n",
      "       'AGE OF HOUSEHOLDER BY HOUSEHOLD INCOME IN THE PAST 12 MONTHS (IN 2016 INFLATION-ADJUSTED DOLLARS): Householder under 25 years: $75,000 to $99,999: Households -- (Estimate)',\n",
      "       'AGE OF HOUSEHOLDER BY HOUSEHOLD INCOME IN THE PAST 12 MONTHS (IN 2016 INFLATION-ADJUSTED DOLLARS): Householder under 25 years: $75,000 to $99,999: Households -- (Margin of Error)',\n",
      "       'AGE OF HOUSEHOLDER BY HOUSEHOLD INCOME IN THE PAST 12 MONTHS (IN 2016 INFLATION-ADJUSTED DOLLARS): Householder under 25 years: $100,000 to $124,999: Households -- (Estimate)',\n",
      "       'AGE OF HOUSEHOLDER BY HOUSEHOLD INCOME IN THE PAST 12 MONTHS (IN 2016 INFLATION-ADJUSTED DOLLARS): Householder under 25 years: $100,000 to $124,999: Households -- (Margin of Error)',\n",
      "       'AGE OF HOUSEHOLDER BY HOUSEHOLD INCOME IN THE PAST 12 MONTHS (IN 2016 INFLATION-ADJUSTED DOLLARS): Householder under 25 years: $125,000 to $149,999: Households -- (Estimate)',\n",
      "       'AGE OF HOUSEHOLDER BY HOUSEHOLD INCOME IN THE PAST 12 MONTHS (IN 2016 INFLATION-ADJUSTED DOLLARS): Householder under 25 years: $125,000 to $149,999: Households -- (Margin of Error)',\n",
      "       'AGE OF HOUSEHOLDER BY HOUSEHOLD INCOME IN THE PAST 12 MONTHS (IN 2016 INFLATION-ADJUSTED DOLLARS): Householder under 25 years: $150,000 to $199,999: Households -- (Estimate)'],\n",
      "      dtype='object')\n"
     ]
    }
   ],
   "source": [
    "income_df = pd.read_csv(data_folder / \"X19_INCOME.csv\")\n",
    "\n",
    "print(income_df.columns[3:80])"
   ]
  },
  {
   "cell_type": "code",
   "execution_count": 14,
   "metadata": {},
   "outputs": [
    {
     "data": {
      "text/plain": [
       "<bound method NDFrame.head of 0        1292\n",
       "1         443\n",
       "2         370\n",
       "3         483\n",
       "4         717\n",
       "5         560\n",
       "6         679\n",
       "7         672\n",
       "8         537\n",
       "9         589\n",
       "10       1142\n",
       "11        251\n",
       "12        250\n",
       "13        480\n",
       "14        233\n",
       "15        508\n",
       "16        514\n",
       "17        349\n",
       "18        416\n",
       "19        748\n",
       "20        368\n",
       "21        464\n",
       "22        579\n",
       "23        446\n",
       "24        447\n",
       "25        408\n",
       "26        593\n",
       "27        258\n",
       "28        392\n",
       "29        521\n",
       "         ... \n",
       "18968     385\n",
       "18969      79\n",
       "18970     889\n",
       "18971     995\n",
       "18972     473\n",
       "18973     618\n",
       "18974       0\n",
       "18975     840\n",
       "18976     811\n",
       "18977     441\n",
       "18978     564\n",
       "18979     591\n",
       "18980     511\n",
       "18981     708\n",
       "18982     705\n",
       "18983     370\n",
       "18984     304\n",
       "18985     568\n",
       "18986     388\n",
       "18987     550\n",
       "18988     230\n",
       "18989     513\n",
       "18990     415\n",
       "18991     332\n",
       "18992     698\n",
       "18993     837\n",
       "18994     715\n",
       "18995     635\n",
       "18996     417\n",
       "18997     378\n",
       "Name: HOUSEHOLD INCOME IN THE PAST 12 MONTHS (IN 2016 INFLATION-ADJUSTED DOLLARS): Total: Households -- (Estimate), Length: 18998, dtype: int64>"
      ]
     },
     "execution_count": 14,
     "metadata": {},
     "output_type": "execute_result"
    }
   ],
   "source": [
    "income_total = income_df[\"HOUSEHOLD INCOME IN THE PAST 12 MONTHS (IN 2016 INFLATION-ADJUSTED DOLLARS): Total: Households -- (Estimate)\"]\n",
    "income_total.head"
   ]
  },
  {
   "cell_type": "code",
   "execution_count": 21,
   "metadata": {},
   "outputs": [
    {
     "name": "stdout",
     "output_type": "stream",
     "text": [
      "Index(['SEX BY EARNINGS IN THE PAST 12 MONTHS (IN 2016 INFLATION-ADJUSTED DOLLARS) FOR THE POPULATION 16 YEARS AND OVER WITH EARNINGS IN THE PAST 12 MONTHS: Total: Population 16 years and over with earnings -- (Estimate)',\n",
      "       'SEX BY EARNINGS IN THE PAST 12 MONTHS (IN 2016 INFLATION-ADJUSTED DOLLARS) FOR THE POPULATION 16 YEARS AND OVER WITH EARNINGS IN THE PAST 12 MONTHS: Total: Population 16 years and over with earnings -- (Margin of Error)',\n",
      "       'SEX BY EARNINGS IN THE PAST 12 MONTHS (IN 2016 INFLATION-ADJUSTED DOLLARS) FOR THE POPULATION 16 YEARS AND OVER WITH EARNINGS IN THE PAST 12 MONTHS: Male: Population 16 years and over with earnings -- (Estimate)',\n",
      "       'SEX BY EARNINGS IN THE PAST 12 MONTHS (IN 2016 INFLATION-ADJUSTED DOLLARS) FOR THE POPULATION 16 YEARS AND OVER WITH EARNINGS IN THE PAST 12 MONTHS: Male: Population 16 years and over with earnings -- (Margin of Error)',\n",
      "       'SEX BY EARNINGS IN THE PAST 12 MONTHS (IN 2016 INFLATION-ADJUSTED DOLLARS) FOR THE POPULATION 16 YEARS AND OVER WITH EARNINGS IN THE PAST 12 MONTHS: Male: $1 to $2,499 or loss: Population 16 years and over with earnings -- (Estimate)',\n",
      "       'SEX BY EARNINGS IN THE PAST 12 MONTHS (IN 2016 INFLATION-ADJUSTED DOLLARS) FOR THE POPULATION 16 YEARS AND OVER WITH EARNINGS IN THE PAST 12 MONTHS: Male: $1 to $2,499 or loss: Population 16 years and over with earnings -- (Margin of Error)',\n",
      "       'SEX BY EARNINGS IN THE PAST 12 MONTHS (IN 2016 INFLATION-ADJUSTED DOLLARS) FOR THE POPULATION 16 YEARS AND OVER WITH EARNINGS IN THE PAST 12 MONTHS: Male: $2,500 to $4,999: Population 16 years and over with earnings -- (Estimate)',\n",
      "       'SEX BY EARNINGS IN THE PAST 12 MONTHS (IN 2016 INFLATION-ADJUSTED DOLLARS) FOR THE POPULATION 16 YEARS AND OVER WITH EARNINGS IN THE PAST 12 MONTHS: Male: $2,500 to $4,999: Population 16 years and over with earnings -- (Margin of Error)',\n",
      "       'SEX BY EARNINGS IN THE PAST 12 MONTHS (IN 2016 INFLATION-ADJUSTED DOLLARS) FOR THE POPULATION 16 YEARS AND OVER WITH EARNINGS IN THE PAST 12 MONTHS: Male: $5,000 to $7,499: Population 16 years and over with earnings -- (Estimate)',\n",
      "       'SEX BY EARNINGS IN THE PAST 12 MONTHS (IN 2016 INFLATION-ADJUSTED DOLLARS) FOR THE POPULATION 16 YEARS AND OVER WITH EARNINGS IN THE PAST 12 MONTHS: Male: $5,000 to $7,499: Population 16 years and over with earnings -- (Margin of Error)',\n",
      "       ...\n",
      "       'AGGREGATE EARNINGS IN THE PAST 12 MONTHS (IN 2016 INFLATION-ADJUSTED DOLLARS) BY SEX BY WORK EXPERIENCE FOR THE POPULATION 16 YEARS AND OVER WITH EARNINGS: Male: Worked full-time, year-round in the past 12 months: Population 16 years and over with earnings -- (Margin of Error)',\n",
      "       'AGGREGATE EARNINGS IN THE PAST 12 MONTHS (IN 2016 INFLATION-ADJUSTED DOLLARS) BY SEX BY WORK EXPERIENCE FOR THE POPULATION 16 YEARS AND OVER WITH EARNINGS: Male: Other: Population 16 years and over with earnings -- (Estimate)',\n",
      "       'AGGREGATE EARNINGS IN THE PAST 12 MONTHS (IN 2016 INFLATION-ADJUSTED DOLLARS) BY SEX BY WORK EXPERIENCE FOR THE POPULATION 16 YEARS AND OVER WITH EARNINGS: Male: Other: Population 16 years and over with earnings -- (Margin of Error)',\n",
      "       'AGGREGATE EARNINGS IN THE PAST 12 MONTHS (IN 2016 INFLATION-ADJUSTED DOLLARS) BY SEX BY WORK EXPERIENCE FOR THE POPULATION 16 YEARS AND OVER WITH EARNINGS: Female: Population 16 years and over with earnings -- (Estimate)',\n",
      "       'AGGREGATE EARNINGS IN THE PAST 12 MONTHS (IN 2016 INFLATION-ADJUSTED DOLLARS) BY SEX BY WORK EXPERIENCE FOR THE POPULATION 16 YEARS AND OVER WITH EARNINGS: Female: Population 16 years and over with earnings -- (Margin of Error)',\n",
      "       'AGGREGATE EARNINGS IN THE PAST 12 MONTHS (IN 2016 INFLATION-ADJUSTED DOLLARS) BY SEX BY WORK EXPERIENCE FOR THE POPULATION 16 YEARS AND OVER WITH EARNINGS: Female: Worked full-time, year-round in the past 12 months: Population 16 years and over with earnings -- (Estimate)',\n",
      "       'AGGREGATE EARNINGS IN THE PAST 12 MONTHS (IN 2016 INFLATION-ADJUSTED DOLLARS) BY SEX BY WORK EXPERIENCE FOR THE POPULATION 16 YEARS AND OVER WITH EARNINGS: Female: Worked full-time, year-round in the past 12 months: Population 16 years and over with earnings -- (Margin of Error)',\n",
      "       'AGGREGATE EARNINGS IN THE PAST 12 MONTHS (IN 2016 INFLATION-ADJUSTED DOLLARS) BY SEX BY WORK EXPERIENCE FOR THE POPULATION 16 YEARS AND OVER WITH EARNINGS: Female: Other: Population 16 years and over with earnings -- (Estimate)',\n",
      "       'AGGREGATE EARNINGS IN THE PAST 12 MONTHS (IN 2016 INFLATION-ADJUSTED DOLLARS) BY SEX BY WORK EXPERIENCE FOR THE POPULATION 16 YEARS AND OVER WITH EARNINGS: Female: Other: Population 16 years and over with earnings -- (Margin of Error)',\n",
      "       'OBJECTID'],\n",
      "      dtype='object', length=107)\n"
     ]
    }
   ],
   "source": [
    "earnings_df = pd.read_csv(data_folder / \"X20_EARNINGS.csv\")\n",
    "\n",
    "print(earnings_df.columns[3:])"
   ]
  },
  {
   "cell_type": "code",
   "execution_count": null,
   "metadata": {},
   "outputs": [],
   "source": []
  }
 ],
 "metadata": {
  "kernelspec": {
   "display_name": "Python 3",
   "language": "python",
   "name": "python3"
  },
  "language_info": {
   "codemirror_mode": {
    "name": "ipython",
    "version": 3
   },
   "file_extension": ".py",
   "mimetype": "text/x-python",
   "name": "python",
   "nbconvert_exporter": "python",
   "pygments_lexer": "ipython3",
   "version": "3.6.6"
  }
 },
 "nbformat": 4,
 "nbformat_minor": 2
}
