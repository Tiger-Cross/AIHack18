{
 "cells": [
  {
   "cell_type": "markdown",
   "metadata": {},
   "source": [
    "# Investigation of California Socioeconomic Relations Dataset\n",
    "\n",
    "This contains the chapter on how we cleaned the dataset.\n",
    "\n",
    "- [Requirements](#library-imports)\n",
    "- [Mapping the data](#map)"
   ]
  },
  {
   "cell_type": "markdown",
   "metadata": {},
   "source": [
    "## Importing required libraries<a class=\"anchor\" id=\"library-imports\"></a>"
   ]
  },
  {
   "cell_type": "code",
   "execution_count": 14,
   "metadata": {},
   "outputs": [],
   "source": [
    "# Standard python packages\n",
    "import os\n",
    "import sys\n",
    "\n",
    "# Other package imports\n",
    "import numpy as np\n",
    "import pandas as pd\n",
    "#from matplotlib import pyplot as plt\n",
    "import matplotlib\n",
    "import matplotlib.cm as cm\n",
    "import matplotlib.pyplot as plt\n",
    "from scipy.interpolate import griddata\n",
    "from scipy.interpolate import Rbf\n",
    "from shapely.geometry.polygon import Polygon\n",
    "from shapely.geometry import Point\n",
    "from shapely.geometry import shape"
   ]
  },
  {
   "cell_type": "markdown",
   "metadata": {},
   "source": [
    "## Mapping the Data "
   ]
  },
  {
   "cell_type": "markdown",
   "metadata": {},
   "source": [
    "Each individual dataset contains a column for the GEOID and Centroids.csv contains the mapping between each GEOID and lon-lat coordinates.\n",
    "\n",
    "Centroids was produced using the US Census Block Group Shapefile. Loading this into QGIS software and computing the centroid of each block group polygon with the geometry tools, allowed us to obtain the GEOID-lonlat mapping using the shapefile's corresponding database file."
   ]
  },
  {
   "cell_type": "code",
   "execution_count": 15,
   "metadata": {},
   "outputs": [],
   "source": [
    "filename = '../data/interim/Centroids.csv'\n",
    "data = np.loadtxt(filename, dtype=str, delimiter=',', usecols=range(10), skiprows=1)\n",
    "GEOID = data[:,0]\n",
    "LON = data[:,8].astype(float)\n",
    "LAT = data[:,9].astype(float)"
   ]
  },
  {
   "cell_type": "markdown",
   "metadata": {},
   "source": [
    "Loading in COUNTYNODES.csv, a file containing the coordinates of the perimeters of California counties. "
   ]
  },
  {
   "cell_type": "code",
   "execution_count": 27,
   "metadata": {},
   "outputs": [
    {
     "name": "stdout",
     "output_type": "stream",
     "text": [
      "36978 36978\n"
     ]
    }
   ],
   "source": [
    "filename='../data/interim/COUNTYNODES.csv'\n",
    "data = np.loadtxt(filename, dtype=str, usecols=range(8), skiprows=1, delimiter=',')\n",
    "COUNTY = data[:,3]\n",
    "CLON = data[:,6].astype(float)\n",
    "CLAT = data[:,7].astype(float)\n",
    "print(len(CLON),len(CLAT))"
   ]
  },
  {
   "cell_type": "markdown",
   "metadata": {},
   "source": [
    "Loading in desired processed data .csv file and column variable, in this case number of Bachelor's degrees (column index 123):"
   ]
  },
  {
   "cell_type": "code",
   "execution_count": 17,
   "metadata": {},
   "outputs": [],
   "source": [
    "CSV_file = '../data/processed/X15_EDUCATIONAL_ATTAINMENT.csv'\n",
    "CSV_VARIABLE = np.loadtxt(CSV_file, dtype=str, delimiter=',', usecols=(123,), skiprows=0)\n",
    "CSV_VARIABLE_NAME = CSV_VARIABLE[0]\n",
    "CSV_VARIABLE = CSV_VARIABLE[1:].astype(float)\n",
    "\n",
    "CSV_GEOID = np.loadtxt(CSV_file, dtype=str, delimiter=',', usecols=(2,), skiprows=1)\n",
    "CSV_LONLAT = np.zeros((len(CSV_GEOID),2), dtype=float)"
   ]
  },
  {
   "cell_type": "markdown",
   "metadata": {},
   "source": [
    "Producing a dictionary for the mapping between each GEOID and printing missing values from US Census shapefile that appear in our dataset:"
   ]
  },
  {
   "cell_type": "code",
   "execution_count": 18,
   "metadata": {},
   "outputs": [
    {
     "name": "stdout",
     "output_type": "stream",
     "text": [
      "FAILED: 15000US060139900000, INDEX: 1958\n",
      "FAILED: 15000US060159900000, INDEX: 1978\n",
      "FAILED: 15000US060239901000, INDEX: 2823\n",
      "FAILED: 15000US060371370001, INDEX: 4271\n",
      "FAILED: 15000US060371370002, INDEX: 4272\n",
      "FAILED: 15000US060379901000, INDEX: 9968\n",
      "FAILED: 15000US060599901000, INDEX: 12731\n",
      "FAILED: 15000US060759901000, INDEX: 18416\n",
      "FAILED: 15000US060799900000, INDEX: 18974\n"
     ]
    }
   ],
   "source": [
    "lonlat = np.transpose([LON, LAT])\n",
    "\n",
    "# dictionary of mapping:\n",
    "D = {}\n",
    "for i in range(len(GEOID)):\n",
    "    D[GEOID[i]] = lonlat[i]\n",
    "\n",
    "failed=[] # find index of CSV_GEOID err\n",
    "for i in range(len(CSV_GEOID)):\n",
    "    try:\n",
    "        CSV_LONLAT[i] = D[CSV_GEOID[i]]\n",
    "    except:\n",
    "        print('FAILED: {}, INDEX: {}'.format(CSV_GEOID[i], i))\n",
    "        failed.append(i)"
   ]
  },
  {
   "cell_type": "code",
   "execution_count": 26,
   "metadata": {},
   "outputs": [],
   "source": [
    "D={}\n",
    "lassenlon=[]\n",
    "lassenlat=[]\n",
    "Dlon = {}\n",
    "Dlat = {}\n",
    "Dlonlat = {}\n",
    "Dpoly = {}\n",
    "\n",
    "countynames = []\n",
    "for i in COUNTY:\n",
    "    if i not in countynames:\n",
    "        countynames.append(i)\n",
    "\n",
    "for j in countynames:\n",
    "    countylon=[]\n",
    "    countylat=[]\n",
    "    countylonlat=[]\n",
    "    for i in range(len(COUNTY)):\n",
    "        if COUNTY[i] == j:\n",
    "            countylon.append(CLON[i])\n",
    "            countylat.append(CLAT[i])\n",
    "            countylonlat.append([CLON[i],CLAT[i]])\n",
    "    Dlon[j] = countylon\n",
    "    Dlat[j] = countylat\n",
    "\n",
    "    # TO PLOT COUNTY BORDERS UNCOMMENT\n",
    "    #plt.plot(countylon, countylat, c='black', linewidth=0.3)\n",
    "\n",
    "    Dlonlat[j] = countylonlat\n",
    "    poly = Polygon(countylonlat)\n",
    "    Dpoly[j] = poly"
   ]
  },
  {
   "cell_type": "markdown",
   "metadata": {},
   "source": [
    "Calculating average value of variable per county:"
   ]
  },
  {
   "cell_type": "code",
   "execution_count": 24,
   "metadata": {},
   "outputs": [
    {
     "ename": "IndexError",
     "evalue": "index 23106 is out of bounds for axis 0 with size 18998",
     "output_type": "error",
     "traceback": [
      "\u001b[0;31m---------------------------------------------------------------------------\u001b[0m",
      "\u001b[0;31mIndexError\u001b[0m                                Traceback (most recent call last)",
      "\u001b[0;32m<ipython-input-24-33cd72fed7cc>\u001b[0m in \u001b[0;36m<module>\u001b[0;34m()\u001b[0m\n\u001b[1;32m      8\u001b[0m     \u001b[0;32mfor\u001b[0m \u001b[0mj\u001b[0m \u001b[0;32min\u001b[0m \u001b[0mrange\u001b[0m\u001b[0;34m(\u001b[0m\u001b[0mlen\u001b[0m\u001b[0;34m(\u001b[0m\u001b[0mLON\u001b[0m\u001b[0;34m)\u001b[0m\u001b[0;34m)\u001b[0m\u001b[0;34m:\u001b[0m\u001b[0;34m\u001b[0m\u001b[0m\n\u001b[1;32m      9\u001b[0m         \u001b[0;32mif\u001b[0m \u001b[0mDpoly\u001b[0m\u001b[0;34m[\u001b[0m\u001b[0mi\u001b[0m\u001b[0;34m]\u001b[0m\u001b[0;34m.\u001b[0m\u001b[0mcontains\u001b[0m\u001b[0;34m(\u001b[0m\u001b[0mPoint\u001b[0m\u001b[0;34m(\u001b[0m\u001b[0mLON\u001b[0m\u001b[0;34m[\u001b[0m\u001b[0mj\u001b[0m\u001b[0;34m]\u001b[0m\u001b[0;34m,\u001b[0m \u001b[0mLAT\u001b[0m\u001b[0;34m[\u001b[0m\u001b[0mj\u001b[0m\u001b[0;34m]\u001b[0m\u001b[0;34m)\u001b[0m\u001b[0;34m)\u001b[0m\u001b[0;34m:\u001b[0m\u001b[0;34m\u001b[0m\u001b[0m\n\u001b[0;32m---> 10\u001b[0;31m             \u001b[0mcountyavg\u001b[0m \u001b[0;34m+=\u001b[0m \u001b[0mCSV_VARIABLE\u001b[0m\u001b[0;34m[\u001b[0m\u001b[0mj\u001b[0m\u001b[0;34m]\u001b[0m\u001b[0;34m\u001b[0m\u001b[0m\n\u001b[0m\u001b[1;32m     11\u001b[0m             \u001b[0mcountycnt\u001b[0m \u001b[0;34m+=\u001b[0m \u001b[0;36m1\u001b[0m\u001b[0;34m\u001b[0m\u001b[0m\n\u001b[1;32m     12\u001b[0m     \u001b[0;32mif\u001b[0m \u001b[0mcountycnt\u001b[0m \u001b[0;34m!=\u001b[0m \u001b[0;36m0\u001b[0m\u001b[0;34m:\u001b[0m\u001b[0;34m\u001b[0m\u001b[0m\n",
      "\u001b[0;31mIndexError\u001b[0m: index 23106 is out of bounds for axis 0 with size 18998"
     ]
    }
   ],
   "source": [
    "Dvalue = {}\n",
    "countycnt=0\n",
    "\n",
    "# USED TO CALCULATE AVERAGE VALUE OF VARIABLE PER COUNTY:\n",
    "for i in countynames:\n",
    "    countyavg=0\n",
    "    countycnt=0\n",
    "    for j in range(len(LON)):\n",
    "        if Dpoly[i].contains(Point(LON[j], LAT[j])):\n",
    "            countyavg += CSV_VARIABLE[j]\n",
    "            countycnt += 1\n",
    "    if countycnt != 0:\n",
    "        countyavg /= countycnt\n",
    "        # get percentage assuming 1000 per block group:\n",
    "        countyavg /= 10\n",
    "    Dvalue[i] = countyavg"
   ]
  },
  {
   "cell_type": "markdown",
   "metadata": {},
   "source": [
    "Plotting polygons of each county filled using plasma colour scale:"
   ]
  },
  {
   "cell_type": "code",
   "execution_count": 25,
   "metadata": {},
   "outputs": [
    {
     "ename": "KeyError",
     "evalue": "'Modoc'",
     "output_type": "error",
     "traceback": [
      "\u001b[0;31m---------------------------------------------------------------------------\u001b[0m",
      "\u001b[0;31mKeyError\u001b[0m                                  Traceback (most recent call last)",
      "\u001b[0;32m<ipython-input-25-bd87c3f68253>\u001b[0m in \u001b[0;36m<module>\u001b[0;34m()\u001b[0m\n\u001b[1;32m      7\u001b[0m     \u001b[0mx\u001b[0m\u001b[0;34m,\u001b[0m\u001b[0my\u001b[0m \u001b[0;34m=\u001b[0m \u001b[0mcountypoly\u001b[0m\u001b[0;34m.\u001b[0m\u001b[0mexterior\u001b[0m\u001b[0;34m.\u001b[0m\u001b[0mxy\u001b[0m\u001b[0;34m\u001b[0m\u001b[0m\n\u001b[1;32m      8\u001b[0m     \u001b[0mcmap\u001b[0m \u001b[0;34m=\u001b[0m \u001b[0mcm\u001b[0m\u001b[0;34m.\u001b[0m\u001b[0mplasma\u001b[0m\u001b[0;34m\u001b[0m\u001b[0m\n\u001b[0;32m----> 9\u001b[0;31m     \u001b[0mcolor\u001b[0m \u001b[0;34m=\u001b[0m \u001b[0mcmap\u001b[0m\u001b[0;34m(\u001b[0m\u001b[0mnorm\u001b[0m\u001b[0;34m(\u001b[0m\u001b[0mDvalue\u001b[0m\u001b[0;34m[\u001b[0m\u001b[0mi\u001b[0m\u001b[0;34m]\u001b[0m\u001b[0;34m)\u001b[0m\u001b[0;34m)\u001b[0m\u001b[0;34m\u001b[0m\u001b[0m\n\u001b[0m\u001b[1;32m     10\u001b[0m \u001b[0;34m\u001b[0m\u001b[0m\n\u001b[1;32m     11\u001b[0m     \u001b[0max\u001b[0m\u001b[0;34m.\u001b[0m\u001b[0mfill\u001b[0m\u001b[0;34m(\u001b[0m\u001b[0mx\u001b[0m\u001b[0;34m,\u001b[0m\u001b[0my\u001b[0m\u001b[0;34m,\u001b[0m \u001b[0mc\u001b[0m\u001b[0;34m=\u001b[0m\u001b[0mcolor\u001b[0m\u001b[0;34m)\u001b[0m\u001b[0;34m\u001b[0m\u001b[0m\n",
      "\u001b[0;31mKeyError\u001b[0m: 'Modoc'"
     ]
    },
    {
     "data": {
      "image/png": "[encoded data removed]",
      "text/plain": [
       "<Figure size 432x288 with 1 Axes>"
      ]
     },
     "metadata": {},
     "output_type": "display_data"
    }
   ],
   "source": [
    "# PLOT POLYGONS\n",
    "norm = matplotlib.colors.Normalize(vmin=0, vmax=max(Dvalue.values()))\n",
    "fig = plt.figure()\n",
    "ax = fig.add_subplot(111)\n",
    "for i in countynames:\n",
    "    countypoly = Dpoly[i]\n",
    "    x,y = countypoly.exterior.xy\n",
    "    cmap = cm.plasma\n",
    "    color = cmap(norm(Dvalue[i]))\n",
    "\n",
    "    ax.fill(x,y, c=color)\n",
    "plt.xlabel('Longitude')\n",
    "plt.ylabel('Latitude')\n",
    "plt.savefig(CSV_VARIABLE_NAME[:30] + \".pdf\")\n",
    "plt.show()\n",
    "\n",
    "fig = plt.figure(figsize=(3,8))\n",
    "ax2 = fig.add_axes([0.05, 0.05, 0.15, 0.9])\n",
    "\n",
    "cb1 = matplotlib.colorbar.ColorbarBase(ax2, cmap=cmap, norm=norm, orientation='vertical')\n",
    "cb1.set_label('Percentage of people per Block Group with a Bachelor\\'s')\n",
    "plt.savefig(CSV_VARIABLE_NAME[:30] + \"_colorbar.pdf\")\n",
    "plt.show()"
   ]
  }
 ],
 "metadata": {
  "kernelspec": {
   "display_name": "Python 3",
   "language": "python",
   "name": "python3"
  },
  "language_info": {
   "codemirror_mode": {
    "name": "ipython",
    "version": 3
   },
   "file_extension": ".py",
   "mimetype": "text/x-python",
   "name": "python",
   "nbconvert_exporter": "python",
   "pygments_lexer": "ipython3",
   "version": "3.6.6"
  }
 },
 "nbformat": 4,
 "nbformat_minor": 2
}
