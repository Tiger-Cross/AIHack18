{
 "cells": [
  {
   "cell_type": "markdown",
   "metadata": {},
   "source": [
    "# Investigation of California Socioeconomic Relations Dataset\n",
    "\n",
    "This contains the chapter on how we cleaned the dataset.\n",
    "\n",
    "- [Requirements](#library-imports)\n",
    "- [Mapping the data](#map)"
   ]
  },
  {
   "cell_type": "markdown",
   "metadata": {},
   "source": [
    "## Importing required libraries<a class=\"anchor\" id=\"library-imports\"></a>"
   ]
  },
  {
   "cell_type": "code",
   "execution_count": 14,
   "metadata": {},
   "outputs": [],
   "source": [
    "# Standard python packages\n",
    "import os\n",
    "import sys\n",
    "\n",
    "# Other package imports\n",
    "import numpy as np\n",
    "import pandas as pd\n",
    "#from matplotlib import pyplot as plt\n",
    "import matplotlib\n",
    "import matplotlib.cm as cm\n",
    "import matplotlib.pyplot as plt\n",
    "from scipy.interpolate import griddata\n",
    "from scipy.interpolate import Rbf\n",
    "from shapely.geometry.polygon import Polygon\n",
    "from shapely.geometry import Point\n",
    "from shapely.geometry import shape"
   ]
  },
  {
   "cell_type": "markdown",
   "metadata": {},
   "source": [
    "## Mapping the Data "
   ]
  },
  {
   "cell_type": "markdown",
   "metadata": {},
   "source": [
    "Each individual dataset contains a column for the GEOID and Centroids.csv contains the mapping between each GEOID and lon-lat coordinates.\n",
    "\n",
    "Centroids was produced using the US Census Block Group Shapefile. Loading this into QGIS software and computing the centroid of each block group polygon with the geometry tools, allowed us to obtain the GEOID-lonlat mapping using the shapefile's corresponding database file."
   ]
  },
  {
   "cell_type": "code",
   "execution_count": 38,
   "metadata": {},
   "outputs": [
    {
     "name": "stdout",
     "output_type": "stream",
     "text": [
      "23203\n"
     ]
    }
   ],
   "source": [
    "filename = '../data/interim/Centroids.csv'\n",
    "data = np.loadtxt(filename, dtype=str, delimiter=',', usecols=range(10), skiprows=1)\n",
    "GEOID = data[:,0]\n",
    "LON = data[:,8].astype(float)\n",
    "LAT = data[:,9].astype(float)"
   ]
  },
  {
   "cell_type": "markdown",
   "metadata": {},
   "source": [
    "Loading in COUNTYNODES.csv, a file containing the coordinates of the perimeters of California counties. "
   ]
  },
  {
   "cell_type": "code",
   "execution_count": 34,
   "metadata": {},
   "outputs": [],
   "source": [
    "filename='../data/interim/COUNTYNODES.csv'\n",
    "data = np.loadtxt(filename, dtype=str, usecols=range(8), skiprows=1, delimiter=',')\n",
    "COUNTY = data[:,3]\n",
    "CLON = data[:,6].astype(float)\n",
    "CLAT = data[:,7].astype(float)"
   ]
  },
  {
   "cell_type": "markdown",
   "metadata": {},
   "source": [
    "Loading in desired processed data .csv file and column variable, in this case number of Bachelor's degrees (column index 123):"
   ]
  },
  {
   "cell_type": "code",
   "execution_count": 17,
   "metadata": {},
   "outputs": [],
   "source": [
    "CSV_file = '../data/processed/X15_EDUCATIONAL_ATTAINMENT.csv'\n",
    "CSV_VARIABLE = np.loadtxt(CSV_file, dtype=str, delimiter=',', usecols=(123,), skiprows=0)\n",
    "CSV_VARIABLE_NAME = CSV_VARIABLE[0]\n",
    "CSV_VARIABLE = CSV_VARIABLE[1:].astype(float)\n",
    "\n",
    "CSV_GEOID = np.loadtxt(CSV_file, dtype=str, delimiter=',', usecols=(2,), skiprows=1)\n",
    "CSV_LONLAT = np.zeros((len(CSV_GEOID),2), dtype=float)"
   ]
  },
  {
   "cell_type": "markdown",
   "metadata": {},
   "source": [
    "Producing a dictionary for the mapping between each GEOID and printing missing values from US Census shapefile that appear in our dataset:"
   ]
  },
  {
   "cell_type": "code",
   "execution_count": 52,
   "metadata": {},
   "outputs": [
    {
     "name": "stdout",
     "output_type": "stream",
     "text": [
      "FAILED: 15000US060139900000, INDEX: 1958\n",
      "FAILED: 15000US060159900000, INDEX: 1978\n",
      "FAILED: 15000US060239901000, INDEX: 2823\n",
      "FAILED: 15000US060371370001, INDEX: 4271\n",
      "FAILED: 15000US060371370002, INDEX: 4272\n",
      "FAILED: 15000US060379901000, INDEX: 9968\n",
      "FAILED: 15000US060599901000, INDEX: 12731\n",
      "FAILED: 15000US060759901000, INDEX: 18416\n",
      "FAILED: 15000US060799900000, INDEX: 18974\n"
     ]
    }
   ],
   "source": [
    "lonlat = np.transpose([LON, LAT])\n",
    "\n",
    "# dictionary of mapping:\n",
    "D = {}\n",
    "for i in range(len(GEOID)):\n",
    "    D[GEOID[i]] = lonlat[i]\n",
    "\n",
    "failed=[] # find index of CSV_GEOID err\n",
    "for i in range(len(CSV_GEOID)):\n",
    "    try:\n",
    "        CSV_LONLAT[i] = D[CSV_GEOID[i]]\n",
    "    except:\n",
    "        print('FAILED: {}, INDEX: {}'.format(CSV_GEOID[i], i))\n",
    "        failed.append(i)\n",
    "        \n",
    "# loop backwards\n",
    "for j in range(len(CSV_LONLAT)-1,-1,-1):\n",
    "    if j in failed:\n",
    "        CSV_LONLAT = np.delete(CSV_LONLAT, j, axis=0)\n",
    "        CSV_VARIABLE = np.delete(CSV_VARIABLE, j, axis=0)\n",
    "LON = CSV_LONLAT[:,0]\n",
    "LAT = CSV_LONLAT[:,1]\n"
   ]
  },
  {
   "cell_type": "code",
   "execution_count": 53,
   "metadata": {},
   "outputs": [],
   "source": [
    "D={}\n",
    "lassenlon=[]\n",
    "lassenlat=[]\n",
    "Dlon = {}\n",
    "Dlat = {}\n",
    "Dlonlat = {}\n",
    "Dpoly = {}\n",
    "\n",
    "countynames = []\n",
    "for i in COUNTY:\n",
    "    if i not in countynames:\n",
    "        countynames.append(i)\n",
    "\n",
    "for j in countynames:\n",
    "    countylon=[]\n",
    "    countylat=[]\n",
    "    countylonlat=[]\n",
    "    for i in range(len(COUNTY)):\n",
    "        if COUNTY[i] == j: # if COUNTY = countyname\n",
    "            countylon.append(CLON[i])\n",
    "            countylat.append(CLAT[i])\n",
    "            countylonlat.append([CLON[i],CLAT[i]])\n",
    "    Dlon[j] = countylon\n",
    "    Dlat[j] = countylat\n",
    "\n",
    "    # TO PLOT COUNTY BORDERS UNCOMMENT\n",
    "    #plt.plot(countylon, countylat, c='black', linewidth=0.3)\n",
    "\n",
    "    Dlonlat[j] = countylonlat\n",
    "    poly = Polygon(countylonlat)\n",
    "    Dpoly[j] = poly"
   ]
  },
  {
   "cell_type": "markdown",
   "metadata": {},
   "source": [
    "Calculating average value of variable per county by checking if each point lies within the perimeter then adding to the county variable sum, producing a total average:"
   ]
  },
  {
   "cell_type": "code",
   "execution_count": 54,
   "metadata": {},
   "outputs": [],
   "source": [
    "Dvalue = {}\n",
    "countycnt=0\n",
    "#print(len(LON), len(CSV_VARIABLE))\n",
    "# USED TO CALCULATE AVERAGE VALUE OF VARIABLE PER COUNTY:\n",
    "for i in countynames:\n",
    "    countyavg=0\n",
    "    countycnt=0\n",
    "    for j in range(len(LON)): # looping through all points in \n",
    "        if Dpoly[i].contains(Point(LON[j], LAT[j])):\n",
    "            countyavg += CSV_VARIABLE[j]\n",
    "            countycnt += 1\n",
    "    if countycnt != 0:\n",
    "        countyavg /= countycnt\n",
    "        # get percentage assuming 1000 per block group:\n",
    "        countyavg /= 10\n",
    "    Dvalue[i] = countyavg"
   ]
  },
  {
   "cell_type": "markdown",
   "metadata": {},
   "source": [
    "Plotting polygons of each county filled using plasma colour scale:"
   ]
  },
  {
   "cell_type": "code",
   "execution_count": 66,
   "metadata": {
    "scrolled": false
   },
   "outputs": [
    {
     "data": {
      "image/png": "[encoded data removed]",
      "text/plain": [
       "<Figure size 576x432 with 2 Axes>"
      ]
     },
     "metadata": {},
     "output_type": "display_data"
    }
   ],
   "source": [
    "# PLOT POLYGONS\n",
    "norm = matplotlib.colors.Normalize(vmin=0, vmax=max(Dvalue.values()))\n",
    "#fig, (ax1,ax2) = plt.subplots(1, 2, figsize=(7,5))\n",
    "#ax = fig.add_subplot(111)\n",
    "\n",
    "fig = plt.figure(figsize=(8,6))\n",
    "ax1  = fig.add_axes([0.10,0.10,0.70,0.85])\n",
    "\n",
    "for i in countynames:\n",
    "    countypoly = Dpoly[i]\n",
    "    x,y = countypoly.exterior.xy\n",
    "    cmap = cm.plasma\n",
    "    color = cmap(norm(Dvalue[i]))\n",
    "\n",
    "    ax1.fill(x,y, c=color)\n",
    "plt.xlabel('Longitude')\n",
    "plt.ylabel('Latitude')\n",
    "#plt.savefig(CSV_VARIABLE_NAME[:30] + \".pdf\")\n",
    "\n",
    "sm = plt.cm.ScalarMappable(cmap=cmap, norm=norm)\n",
    "sm.set_array([])\n",
    "plt.colorbar(sm, label='Percentage of people per Block Group with a Bachelor\\'s')\n",
    "plt.show()"
   ]
  }
 ],
 "metadata": {
  "kernelspec": {
   "display_name": "Python 3",
   "language": "python",
   "name": "python3"
  },
  "language_info": {
   "codemirror_mode": {
    "name": "ipython",
    "version": 3
   },
   "file_extension": ".py",
   "mimetype": "text/x-python",
   "name": "python",
   "nbconvert_exporter": "python",
   "pygments_lexer": "ipython3",
   "version": "3.6.6"
  }
 },
 "nbformat": 4,
 "nbformat_minor": 2
}
