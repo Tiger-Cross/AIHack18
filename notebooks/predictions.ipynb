{
 "cells": [
  {
   "cell_type": "markdown",
   "metadata": {},
   "source": [
    "Value predictions based on trained models"
   ]
  },
  {
   "cell_type": "code",
   "execution_count": 1,
   "metadata": {},
   "outputs": [],
   "source": [
    "# Standard python packages\n",
    "import os\n",
    "import sys\n",
    "from pathlib import Path # For portable paths\n",
    "\n",
    "# Other package imports\n",
    "import numpy as np\n",
    "import pandas as pd\n",
    "from matplotlib import pyplot as plt\n",
    "\n",
    "# Imports for training model\n",
    "from xgboost import XGBClassifier\n",
    "from sklearn.preprocessing import MinMaxScaler\n",
    "from sklearn.model_selection import train_test_split\n",
    "from sklearn.metrics import mean_squared_error\n",
    "from sklearn.externals import joblib"
   ]
  },
  {
   "cell_type": "code",
   "execution_count": 2,
   "metadata": {},
   "outputs": [],
   "source": [
    "models_folder = Path(\"../models/\")\n",
    "data_test_folder = Path(\"../data/test_data\")\n",
    "predicted_data_folder = Path(\"../predicted_data\")"
   ]
  },
  {
   "cell_type": "code",
   "execution_count": 3,
   "metadata": {},
   "outputs": [
    {
     "name": "stderr",
     "output_type": "stream",
     "text": [
      "/anaconda3/lib/python3.7/site-packages/sklearn/base.py:311: UserWarning: Trying to unpickle estimator LogisticRegression from version 0.20.0 when using version 0.19.2. This might lead to breaking code or invalid results. Use at your own risk.\n",
      "  UserWarning)\n"
     ]
    },
    {
     "name": "stdout",
     "output_type": "stream",
     "text": [
      "1\n"
     ]
    }
   ],
   "source": [
    "income_filepath = models_folder / \"inc_bach_log_model.dat\"\n",
    "income_model = joblib.load(open(income_filepath, 'rb'))\n",
    "income_data_filename = data_test_folder / \"X19_INCOME.csv\"\n",
    "inc_df = pd.read_csv(income_data_filename)\n",
    "x_new = inc_df[\"B19301e1\"].fillna(0)\n",
    "scaler = MinMaxScaler()\n",
    "x_new = scaler.fit_transform(x_new.values.reshape(-1, 1))\n",
    "y_predicted = income_model.predict(x_new)\n",
    "print(1)"
   ]
  },
  {
   "cell_type": "code",
   "execution_count": 4,
   "metadata": {},
   "outputs": [],
   "source": [
    "np.savetxt(predicted_data_folder / \"27_B19301e1.csv\", y_predicted, delimiter=\",\")\n"
   ]
  },
  {
   "cell_type": "code",
   "execution_count": null,
   "metadata": {},
   "outputs": [],
   "source": []
  }
 ],
 "metadata": {
  "kernelspec": {
   "display_name": "Python 3",
   "language": "python",
   "name": "python3"
  },
  "language_info": {
   "codemirror_mode": {
    "name": "ipython",
    "version": 3
   },
   "file_extension": ".py",
   "mimetype": "text/x-python",
   "name": "python",
   "nbconvert_exporter": "python",
   "pygments_lexer": "ipython3",
   "version": "3.7.0"
  }
 },
 "nbformat": 4,
 "nbformat_minor": 2
}
